{
 "cells": [
  {
   "cell_type": "markdown",
   "metadata": {},
   "source": [
    "# OptimIQ - Semillero de Optimizacion en Ingenieria Quimica\n",
    "# Pyomo Fundamentals - Exercise 1: Knapsack\n",
    "# March 3rd, 2022"
   ]
  },
  {
   "cell_type": "markdown",
   "metadata": {},
   "source": [
    "This notebook contains material from the OptimIQ course by David Bernal (dbernaln at purdue.edu); the content is available on **[Github](https://github.com/bernalde/OptimIQ)**.\n",
    "The text is released under the **[CC-BY-NC-ND-4.0](https://creativecommons.org/licenses/by-nc-nd/4.0/legalcode) license, and code is released under the **[MIT license](https://opensource.org/licenses/MIT).*\n",
    "\n",
    "Run in **[Google Colab](https://colab.research.google.com/github/bernalde/OptimIQ/blob/master/notebooks/pyomo_fundamentals_exercise_1.ipynb)**\n",
    "\n",
    "\n",
    "This notebook is mostly taken from the Pyomo 2018 Summer Workshop available **[here](http://www.pyomo.org/workshop-examples)**."
   ]
  },
  {
   "cell_type": "markdown",
   "metadata": {},
   "source": [
    "## Introduction to Pyomo\n",
    "\n",
    "[Pyomo](https://www.pyomo.org) is an object-oriented, python-based package for equation-oriented (or *algebraic*) modeling and optimization.\n",
    "\n",
    "Here we will briefly cover the commands required to specify an objective function or add a constraint to an existing model.\n",
    "\n",
    "In the next cell, we will create a Pyomo model, and add a couple of variables to that model.\n",
    "\n",
    "<div class=\"alert alert-block alert-info\">\n",
    "<b>Inline Exercise:</b>\n",
    "Execute the following cell to create a Pyomo model with some variables that will be used later.\n",
    "</div>"
   ]
  },
  {
   "cell_type": "markdown",
   "metadata": {},
   "source": [
    "Before we get started on some actual examples, let's make sure that everything is working correctly. The cell below contains commands to install Pyomo as it is not included by default in Google Colab."
   ]
  },
  {
   "cell_type": "code",
   "execution_count": null,
   "metadata": {},
   "outputs": [],
   "source": [
    "# If using this on Google collab, we need to install the packages\n",
    "import sys\n",
    "IN_COLAB = \"google.colab\" in sys.modules\n",
    "\n",
    "# Import other libraries such as pandas and numpy\n",
    "import pandas as pd\n",
    "import numpy as np\n",
    "\n",
    "# Let's install all these packages\n",
    "if IN_COLAB:    \n",
    "    !pip install -q pyomo"
   ]
  },
  {
   "cell_type": "code",
   "execution_count": null,
   "metadata": {},
   "outputs": [],
   "source": [
    "# Let's install all these packages\n",
    "if IN_COLAB:    \n",
    "    _=!wget -N -q \"https://ampl.com/dl/open/ipopt/ipopt-linux64.zip\"\n",
    "    _=!unzip -o -q ipopt-linux64\n",
    "    _=!apt-get install -y -q coinor-cbc\n",
    "    _=!pip install -q cplex\n",
    "    _=!pip install -q gurobipy\n",
    "    _=!pip install -q xpress"
   ]
  },
  {
   "cell_type": "markdown",
   "metadata": {},
   "source": [
    "Everything should install correctly and not we can use the module."
   ]
  },
  {
   "cell_type": "code",
   "execution_count": null,
   "metadata": {},
   "outputs": [],
   "source": [
    "!pyomo help --solvers"
   ]
  },
  {
   "cell_type": "markdown",
   "metadata": {},
   "source": [
    "Problem definition"
   ]
  },
  {
   "cell_type": "code",
   "execution_count": null,
   "metadata": {},
   "outputs": [],
   "source": [
    "from pyomo.environ import *\n",
    "\n",
    "A = ['hammer', 'wrench', 'screwdriver', 'towel']\n",
    "b = {'hammer':8, 'wrench':3, 'screwdriver':6, 'towel':11}\n",
    "w = {'hammer':5, 'wrench':7, 'screwdriver':4, 'towel':3}\n",
    "W_max = 14"
   ]
  },
  {
   "cell_type": "code",
   "execution_count": null,
   "metadata": {
    "tags": [
     "exercise"
    ]
   },
   "outputs": [],
   "source": [
    "model = ConcreteModel()\n",
    "model.x = Var( A, within=Binary )\n",
    "\n",
    "model.obj = Objective(\n",
    "    expr = sum( b[i]*model.x[i] for i in A ), \n",
    "    sense = maximize )\n",
    "\n",
    "model.weight_con = Constraint(\n",
    "    expr = sum( w[i]*model.x[i] for i in A ) <= W_max )\n",
    "\n",
    "opt = SolverFactory('glpk')\n",
    "opt_success = opt.solve(model)"
   ]
  },
  {
   "cell_type": "markdown",
   "metadata": {},
   "source": [
    "Quick Python exercise, print solutions!"
   ]
  },
  {
   "cell_type": "code",
   "execution_count": null,
   "metadata": {},
   "outputs": [],
   "source": [
    "total_weight = sum( w[i]*value(model.x[i]) for i in A )\n",
    "# TODO: INSERT CODE HERE TO PRINT TOTAL WEIGHT AND BENEFIT\n"
   ]
  },
  {
   "cell_type": "code",
   "execution_count": null,
   "metadata": {},
   "outputs": [],
   "source": [
    "print('%12s %12s' % ('Item', 'Selected'))\n",
    "print('=========================')\n",
    "for i in A:\n",
    "    # TODO: INSERT CODE HERE TO PRINT EACH ITEM AND WHETHER OR NOT IT WAS SELECTED\n",
    "print('-------------------------')"
   ]
  }
 ],
 "metadata": {
  "celltoolbar": "Tags",
  "kernelspec": {
   "display_name": "Python 3",
   "language": "python",
   "name": "python3"
  },
  "language_info": {
   "codemirror_mode": {
    "name": "ipython",
    "version": 3
   },
   "file_extension": ".py",
   "mimetype": "text/x-python",
   "name": "python",
   "nbconvert_exporter": "python",
   "pygments_lexer": "ipython3",
   "version": "3.7.6"
  }
 },
 "nbformat": 4,
 "nbformat_minor": 2
}
